{
 "cells": [
  {
   "cell_type": "code",
   "execution_count": 1,
   "metadata": {},
   "outputs": [],
   "source": [
    "from PIL import Image, ImageDraw, ImageFont\n",
    "import math"
   ]
  },
  {
   "cell_type": "markdown",
   "metadata": {},
   "source": [
    "### Pixel to ASCII characters encoding map"
   ]
  },
  {
   "cell_type": "code",
   "execution_count": 2,
   "metadata": {},
   "outputs": [],
   "source": [
    "# Credits: We found this here: https://play.ertdfgcvb.xyz/\n",
    "chars = \"Ñ@#W$9876543210?!abc;:+=-,._ \" \n",
    "charArray = list(chars)\n",
    "charLength = len(charArray)\n",
    "interval = charLength/256"
   ]
  },
  {
   "cell_type": "markdown",
   "metadata": {},
   "source": [
    "### Change as per your choice"
   ]
  },
  {
   "cell_type": "code",
   "execution_count": 3,
   "metadata": {},
   "outputs": [],
   "source": [
    "scaleFactor = 0.20 # Scale Factor to 20%; \n",
    "oneCharWidth = 9 # Character width\n",
    "oneCharHeight = 16 # Character height"
   ]
  },
  {
   "cell_type": "markdown",
   "metadata": {},
   "source": [
    "### Pixel2ASCII Conversion Code"
   ]
  },
  {
   "cell_type": "code",
   "execution_count": 4,
   "metadata": {},
   "outputs": [
    {
     "name": "stderr",
     "output_type": "stream",
     "text": [
      "C:\\Users\\Aniket Konkar\\AppData\\Local\\Temp\\ipykernel_6048\\2211037155.py:9: DeprecationWarning: NEAREST is deprecated and will be removed in Pillow 10 (2023-07-01). Use Resampling.NEAREST or Dither.NONE instead.\n",
      "  im = im.resize((int(scaleFactor*width), int(scaleFactor*height*(oneCharWidth/oneCharHeight))), Image.NEAREST)\n"
     ]
    }
   ],
   "source": [
    "def getChar(inputInt):\n",
    "    return charArray[math.floor(inputInt*interval)]\n",
    "\n",
    "text_file = open(\"Output.txt\", \"w\")\n",
    "im = Image.open(\"images/spiderman.jpg\") # Limitation: Only pass in jpg images, we are getting some problemms in handling png images.\n",
    "fnt = ImageFont.truetype('C:\\\\Windows\\\\Fonts\\\\DejaVuSansMono.ttf', 14) # Set font style and size\n",
    "\n",
    "width, height = im.size\n",
    "im = im.resize((int(scaleFactor*width), int(scaleFactor*height*(oneCharWidth/oneCharHeight))), Image.NEAREST)\n",
    "width, height = im.size\n",
    "pix = im.load()\n",
    "\n",
    "outputImage = Image.new('RGB', (oneCharWidth * width, oneCharHeight * height), color = (0, 0, 0))\n",
    "d = ImageDraw.Draw(outputImage)\n",
    "\n",
    "# Iterate pixel by pixel\n",
    "for i in range(height):\n",
    "    for j in range(width):\n",
    "        r, g, b = pix[j, i]\n",
    "        h = int(r/3 + g/3 + b/3) # Conversion to black & white\n",
    "        pix[j, i] = (h, h, h)\n",
    "        text_file.write(getChar(h))\n",
    "        d.text((j*oneCharWidth, i*oneCharHeight), getChar(h), font = fnt, fill = (r, g, b))\n",
    "    text_file.write('\\n')\n",
    "\n",
    "outputImage.save('output.png')"
   ]
  }
 ],
 "metadata": {
  "kernelspec": {
   "display_name": "base",
   "language": "python",
   "name": "python3"
  },
  "language_info": {
   "codemirror_mode": {
    "name": "ipython",
    "version": 3
   },
   "file_extension": ".py",
   "mimetype": "text/x-python",
   "name": "python",
   "nbconvert_exporter": "python",
   "pygments_lexer": "ipython3",
   "version": "3.9.13"
  }
 },
 "nbformat": 4,
 "nbformat_minor": 2
}
